{
 "cells": [
  {
   "cell_type": "code",
   "execution_count": 28,
   "id": "industrial-bracket",
   "metadata": {},
   "outputs": [],
   "source": [
    "  \n",
    "import argparse\n",
    "import copy\n",
    "import os\n",
    "import os.path as osp\n",
    "import time\n",
    "\n",
    "import mmcv\n",
    "import torch\n",
    "from mmcv.runner import init_dist\n",
    "from mmcv.utils import Config, DictAction, get_git_hash\n",
    "\n",
    "from mmseg import __version__\n",
    "from mmseg.apis import set_random_seed, train_segmentor\n",
    "from mmseg.datasets import build_dataset, build_dataloader\n",
    "from mmseg.models import build_segmentor\n",
    "from mmseg.utils import collect_env, get_root_logger"
   ]
  },
  {
   "cell_type": "code",
   "execution_count": 8,
   "id": "fewer-romania",
   "metadata": {},
   "outputs": [
    {
     "name": "stderr",
     "output_type": "stream",
     "text": [
      "usage: ipykernel_launcher.py [-h] [--work-dir WORK_DIR] [--load-from LOAD_FROM] [--resume-from RESUME_FROM]\n",
      "                             [--no-validate] [--gpus GPUS | --gpu-ids GPU_IDS [GPU_IDS ...]] [--seed SEED]\n",
      "                             [--deterministic] [--options OPTIONS [OPTIONS ...]]\n",
      "                             [--launcher {none,pytorch,slurm,mpi}] [--local_rank LOCAL_RANK]\n",
      "                             config\n",
      "ipykernel_launcher.py: error: unrecognized arguments: -f\n"
     ]
    },
    {
     "ename": "SystemExit",
     "evalue": "2",
     "output_type": "error",
     "traceback": [
      "An exception has occurred, use %tb to see the full traceback.\n",
      "\u001b[0;31mSystemExit\u001b[0m\u001b[0;31m:\u001b[0m 2\n"
     ]
    }
   ],
   "source": [
    "def parse_args():\n",
    "    parser = argparse.ArgumentParser(description='Train a segmentor')\n",
    "    parser.add_argument('config', help='train config file path')\n",
    "    parser.add_argument('--work-dir', help='the dir to save logs and models')\n",
    "    parser.add_argument(\n",
    "        '--load-from', help='the checkpoint file to load weights from')\n",
    "    parser.add_argument(\n",
    "        '--resume-from', help='the checkpoint file to resume from')\n",
    "    parser.add_argument(\n",
    "        '--no-validate',\n",
    "        action='store_true',\n",
    "        help='whether not to evaluate the checkpoint during training')\n",
    "    group_gpus = parser.add_mutually_exclusive_group()\n",
    "    group_gpus.add_argument(\n",
    "        '--gpus',\n",
    "        type=int,\n",
    "        help='number of gpus to use '\n",
    "        '(only applicable to non-distributed training)')\n",
    "    group_gpus.add_argument(\n",
    "        '--gpu-ids',\n",
    "        type=int,\n",
    "        nargs='+',\n",
    "        help='ids of gpus to use '\n",
    "        '(only applicable to non-distributed training)')\n",
    "    parser.add_argument('--seed', type=int, default=None, help='random seed')\n",
    "    parser.add_argument(\n",
    "        '--deterministic',\n",
    "        action='store_true',\n",
    "        help='whether to set deterministic options for CUDNN backend.')\n",
    "    parser.add_argument(\n",
    "        '--options', nargs='+', action=DictAction, help='custom options')\n",
    "    parser.add_argument(\n",
    "        '--launcher',\n",
    "        choices=['none', 'pytorch', 'slurm', 'mpi'],\n",
    "        default='none',\n",
    "        help='job launcher')\n",
    "    parser.add_argument('--local_rank', type=int, default=0)\n",
    "    args = parser.parse_args()\n",
    "    if 'LOCAL_RANK' not in os.environ:\n",
    "        os.environ['LOCAL_RANK'] = str(args.local_rank)\n",
    "\n",
    "    return args\n",
    "args = parse_args()"
   ]
  },
  {
   "cell_type": "code",
   "execution_count": 51,
   "id": "bottom-edmonton",
   "metadata": {},
   "outputs": [],
   "source": [
    "parser = argparse.ArgumentParser(description='Train a segmentor')\n",
    "parser.add_argument('--config', help='train config file path')\n",
    "group_gpus = parser.add_mutually_exclusive_group()\n",
    "group_gpus.add_argument(\n",
    "    '--gpus',\n",
    "    type=int,\n",
    "    help='number of gpus to use '\n",
    "    '(only applicable to non-distributed training)')\n",
    "group_gpus.add_argument(\n",
    "    '--gpu-ids',\n",
    "    type=int,\n",
    "    nargs='+',\n",
    "    help='ids of gpus to use '\n",
    "    '(only applicable to non-distributed training)')\n",
    "args = parser.parse_args(args=['--config', \"configs/unet/deeplabv3_unet_s5-d16_64x64_40k_particle_detection.py\",\n",
    "                              '--gpus', \"1\", \n",
    "                              \n",
    "                               ]\n",
    "                               )"
   ]
  },
  {
   "cell_type": "code",
   "execution_count": 55,
   "id": "looking-eclipse",
   "metadata": {},
   "outputs": [
    {
     "data": {
      "text/plain": [
       "Namespace(config='configs/unet/deeplabv3_unet_s5-d16_64x64_40k_particle_detection.py', gpu_ids=1, gpus=1)"
      ]
     },
     "execution_count": 55,
     "metadata": {},
     "output_type": "execute_result"
    }
   ],
   "source": [
    "args.gpu_ids = 1\n",
    "\n",
    "args\n"
   ]
  },
  {
   "cell_type": "code",
   "execution_count": 59,
   "id": "improving-accuracy",
   "metadata": {},
   "outputs": [],
   "source": [
    "cfg = Config.fromfile(args.config)"
   ]
  },
  {
   "cell_type": "code",
   "execution_count": 60,
   "id": "uniform-convergence",
   "metadata": {},
   "outputs": [
    {
     "data": {
      "text/plain": [
       "Config (path: configs/unet/deeplabv3_unet_s5-d16_64x64_40k_particle_detection.py): {'norm_cfg': {'type': 'BN', 'requires_grad': True}, 'model': {'type': 'EncoderDecoder', 'pretrained': None, 'backbone': {'type': 'UNet', 'in_channels': 3, 'base_channels': 64, 'num_stages': 5, 'strides': (1, 1, 1, 1, 1), 'enc_num_convs': (2, 2, 2, 2, 2), 'dec_num_convs': (2, 2, 2, 2), 'downsamples': (True, True, True, True), 'enc_dilations': (1, 1, 1, 1, 1), 'dec_dilations': (1, 1, 1, 1), 'with_cp': False, 'conv_cfg': None, 'norm_cfg': {'type': 'BN', 'requires_grad': True}, 'act_cfg': {'type': 'ReLU'}, 'upsample_cfg': {'type': 'InterpConv'}, 'norm_eval': False}, 'decode_head': {'type': 'ASPPHead', 'in_channels': 64, 'in_index': 4, 'channels': 16, 'dilations': (1, 12, 24, 36), 'dropout_ratio': 0.1, 'num_classes': 2, 'norm_cfg': {'type': 'BN', 'requires_grad': True}, 'align_corners': False, 'loss_decode': {'type': 'CrossEntropyLoss', 'use_sigmoid': False, 'loss_weight': 1.0}}, 'auxiliary_head': {'type': 'FCNHead', 'in_channels': 128, 'in_index': 3, 'channels': 64, 'num_convs': 1, 'concat_input': False, 'dropout_ratio': 0.1, 'num_classes': 2, 'norm_cfg': {'type': 'BN', 'requires_grad': True}, 'align_corners': False, 'loss_decode': {'type': 'CrossEntropyLoss', 'use_sigmoid': False, 'loss_weight': 0.4}}, 'train_cfg': {}, 'test_cfg': {'mode': 'slide', 'crop_size': (64, 64), 'stride': (42, 42)}}, 'dataset_type': 'CustomDataset', 'data_root': '/home/shirakawa/projects/pytorch_particles_detection/dataset_sample/mmseg_dataset/', 'img_norm_cfg': {'mean': [123.675, 116.28, 103.53], 'std': [58.395, 57.12, 57.375], 'to_rgb': True}, 'crop_size': (512, 1024), 'train_pipeline': [{'type': 'LoadImageFromFile'}, {'type': 'LoadAnnotations'}, {'type': 'Resize', 'img_scale': (512, 32), 'ratio_range': (0.5, 2.0)}, {'type': 'RandomCrop', 'crop_size': (512, 1024), 'cat_max_ratio': 0.75}, {'type': 'RandomFlip', 'prob': 0.5}, {'type': 'PhotoMetricDistortion'}, {'type': 'Normalize', 'mean': [123.675, 116.28, 103.53], 'std': [58.395, 57.12, 57.375], 'to_rgb': True}, {'type': 'Pad', 'size': (512, 1024), 'pad_val': 0, 'seg_pad_val': 255}, {'type': 'DefaultFormatBundle'}, {'type': 'Collect', 'keys': ['img', 'gt_semantic_seg']}], 'test_pipeline': [{'type': 'LoadImageFromFile'}, {'type': 'MultiScaleFlipAug', 'img_scale': (512, 32), 'flip': False, 'transforms': [{'type': 'Resize', 'keep_ratio': True}, {'type': 'RandomFlip'}, {'type': 'Normalize', 'mean': [123.675, 116.28, 103.53], 'std': [58.395, 57.12, 57.375], 'to_rgb': True}, {'type': 'ImageToTensor', 'keys': ['img']}, {'type': 'Collect', 'keys': ['img']}]}], 'data': {'samples_per_gpu': 2, 'workers_per_gpu': 2, 'train': {'type': 'CustomDataset', 'data_root': '/home/shirakawa/projects/pytorch_particles_detection/dataset_sample/mmseg_dataset/', 'img_dir': 'img_dir/train', 'ann_dir': 'ann_dir/train', 'pipeline': [{'type': 'LoadImageFromFile'}, {'type': 'LoadAnnotations'}, {'type': 'Resize', 'img_scale': (512, 32), 'ratio_range': (0.5, 2.0)}, {'type': 'RandomCrop', 'crop_size': (512, 1024), 'cat_max_ratio': 0.75}, {'type': 'RandomFlip', 'prob': 0.5}, {'type': 'PhotoMetricDistortion'}, {'type': 'Normalize', 'mean': [123.675, 116.28, 103.53], 'std': [58.395, 57.12, 57.375], 'to_rgb': True}, {'type': 'Pad', 'size': (512, 1024), 'pad_val': 0, 'seg_pad_val': 255}, {'type': 'DefaultFormatBundle'}, {'type': 'Collect', 'keys': ['img', 'gt_semantic_seg']}]}, 'val': {'type': 'CustomDataset', 'data_root': '/home/shirakawa/projects/pytorch_particles_detection/dataset_sample/mmseg_dataset/', 'img_dir': 'img_dir/val', 'ann_dir': 'ann_dir/val', 'pipeline': [{'type': 'LoadImageFromFile'}, {'type': 'MultiScaleFlipAug', 'img_scale': (512, 32), 'flip': False, 'transforms': [{'type': 'Resize', 'keep_ratio': True}, {'type': 'RandomFlip'}, {'type': 'Normalize', 'mean': [123.675, 116.28, 103.53], 'std': [58.395, 57.12, 57.375], 'to_rgb': True}, {'type': 'ImageToTensor', 'keys': ['img']}, {'type': 'Collect', 'keys': ['img']}]}]}, 'test': {'type': 'CustomDataset', 'data_root': '/home/shirakawa/projects/pytorch_particles_detection/dataset_sample/mmseg_dataset/', 'img_dir': 'img_dir/test', 'ann_dir': 'ann_dir/test', 'pipeline': [{'type': 'LoadImageFromFile'}, {'type': 'MultiScaleFlipAug', 'img_scale': (512, 32), 'flip': False, 'transforms': [{'type': 'Resize', 'keep_ratio': True}, {'type': 'RandomFlip'}, {'type': 'Normalize', 'mean': [123.675, 116.28, 103.53], 'std': [58.395, 57.12, 57.375], 'to_rgb': True}, {'type': 'ImageToTensor', 'keys': ['img']}, {'type': 'Collect', 'keys': ['img']}]}]}}, 'log_config': {'interval': 50, 'hooks': [{'type': 'TextLoggerHook', 'by_epoch': False}]}, 'dist_params': {'backend': 'nccl'}, 'log_level': 'INFO', 'load_from': None, 'resume_from': None, 'workflow': [('train', 1)], 'cudnn_benchmark': True, 'optimizer': {'type': 'SGD', 'lr': 0.01, 'momentum': 0.9, 'weight_decay': 0.0005}, 'optimizer_config': {}, 'lr_config': {'policy': 'poly', 'power': 0.9, 'min_lr': 0.0001, 'by_epoch': False}, 'runner': {'type': 'IterBasedRunner', 'max_iters': 40000}, 'checkpoint_config': {'by_epoch': False, 'interval': 4000}, 'evaluation': {'interval': 4000, 'metric': 'mDice'}}"
      ]
     },
     "execution_count": 60,
     "metadata": {},
     "output_type": "execute_result"
    }
   ],
   "source": [
    "cfg"
   ]
  },
  {
   "cell_type": "code",
   "execution_count": 57,
   "id": "given-singles",
   "metadata": {},
   "outputs": [
    {
     "name": "stderr",
     "output_type": "stream",
     "text": [
      "2021-04-17 11:09:24,786 - mmseg - INFO - Loaded 5837 images\n",
      "INFO:mmseg:Loaded 5837 images\n"
     ]
    }
   ],
   "source": [
    "datasets = [build_dataset(cfg.data.train)]"
   ]
  },
  {
   "cell_type": "code",
   "execution_count": 66,
   "id": "collected-nirvana",
   "metadata": {},
   "outputs": [],
   "source": [
    "distributed = False\n",
    "seed = 0\n",
    "data_loaders = [\n",
    "        build_dataloader(\n",
    "            ds,\n",
    "            cfg.data.samples_per_gpu,\n",
    "            cfg.data.workers_per_gpu,\n",
    "            # cfg.gpus will be ignored if distributed\n",
    "            1,#len(cfg.gpu_ids),\n",
    "            dist=distributed,\n",
    "            seed=seed,\n",
    "            drop_last=True) for ds in datasets\n",
    "    ]"
   ]
  },
  {
   "cell_type": "code",
   "execution_count": 75,
   "id": "anonymous-messaging",
   "metadata": {},
   "outputs": [
    {
     "data": {
      "text/plain": [
       "<torch.utils.data.dataloader.DataLoader at 0x7fba16635370>"
      ]
     },
     "execution_count": 75,
     "metadata": {},
     "output_type": "execute_result"
    }
   ],
   "source": [
    "data_loaders.__getitem__(0)"
   ]
  },
  {
   "cell_type": "code",
   "execution_count": 83,
   "id": "ideal-berry",
   "metadata": {},
   "outputs": [
    {
     "data": {
      "text/plain": [
       "torch.Size([3, 512, 1024])"
      ]
     },
     "execution_count": 83,
     "metadata": {},
     "output_type": "execute_result"
    }
   ],
   "source": [
    "datasets[0].__getitem__(0)['img'].data.shape"
   ]
  },
  {
   "cell_type": "code",
   "execution_count": 90,
   "id": "unnecessary-enterprise",
   "metadata": {},
   "outputs": [
    {
     "data": {
      "text/plain": [
       "array([  0,   1, 255])"
      ]
     },
     "execution_count": 90,
     "metadata": {},
     "output_type": "execute_result"
    }
   ],
   "source": [
    "import numpy as np\n",
    "np.unique(datasets[0].__getitem__(0)['gt_semantic_seg'].data.detach().numpy())"
   ]
  },
  {
   "cell_type": "code",
   "execution_count": 95,
   "id": "affecting-level",
   "metadata": {},
   "outputs": [
    {
     "data": {
      "text/plain": [
       "{'type': 'CustomDataset',\n",
       " 'data_root': '/home/shirakawa/projects/pytorch_particles_detection/dataset_sample/mmseg_dataset/',\n",
       " 'img_dir': 'img_dir/train',\n",
       " 'ann_dir': 'ann_dir/train',\n",
       " 'pipeline': [{'type': 'LoadImageFromFile'},\n",
       "  {'type': 'LoadAnnotations'},\n",
       "  {'type': 'Resize', 'img_scale': (512, 32), 'ratio_range': (0.5, 2.0)},\n",
       "  {'type': 'RandomCrop', 'crop_size': (512, 1024), 'cat_max_ratio': 0.75},\n",
       "  {'type': 'RandomFlip', 'prob': 0.5},\n",
       "  {'type': 'PhotoMetricDistortion'},\n",
       "  {'type': 'Normalize',\n",
       "   'mean': [123.675, 116.28, 103.53],\n",
       "   'std': [58.395, 57.12, 57.375],\n",
       "   'to_rgb': True},\n",
       "  {'type': 'Pad', 'size': (512, 1024), 'pad_val': 0, 'seg_pad_val': 255},\n",
       "  {'type': 'DefaultFormatBundle'},\n",
       "  {'type': 'Collect', 'keys': ['img', 'gt_semantic_seg']}]}"
      ]
     },
     "execution_count": 95,
     "metadata": {},
     "output_type": "execute_result"
    }
   ],
   "source": [
    "cfg.data.train"
   ]
  },
  {
   "cell_type": "code",
   "execution_count": null,
   "id": "expensive-practice",
   "metadata": {},
   "outputs": [],
   "source": []
  }
 ],
 "metadata": {
  "kernelspec": {
   "display_name": "mmseg",
   "language": "python",
   "name": "mmseg"
  },
  "language_info": {
   "codemirror_mode": {
    "name": "ipython",
    "version": 3
   },
   "file_extension": ".py",
   "mimetype": "text/x-python",
   "name": "python",
   "nbconvert_exporter": "python",
   "pygments_lexer": "ipython3",
   "version": "3.8.8"
  }
 },
 "nbformat": 4,
 "nbformat_minor": 5
}
