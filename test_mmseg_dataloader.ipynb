{
 "cells": [
  {
   "cell_type": "code",
   "execution_count": 28,
   "id": "convenient-background",
   "metadata": {},
   "outputs": [],
   "source": [
    "  \n",
    "import argparse\n",
    "import copy\n",
    "import os\n",
    "import os.path as osp\n",
    "import time\n",
    "\n",
    "import mmcv\n",
    "import torch\n",
    "from mmcv.runner import init_dist\n",
    "from mmcv.utils import Config, DictAction, get_git_hash\n",
    "\n",
    "from mmseg import __version__\n",
    "from mmseg.apis import set_random_seed, train_segmentor\n",
    "from mmseg.datasets import build_dataset, build_dataloader\n",
    "from mmseg.models import build_segmentor\n",
    "from mmseg.utils import collect_env, get_root_logger"
   ]
  },
  {
   "cell_type": "code",
   "execution_count": 8,
   "id": "official-malpractice",
   "metadata": {},
   "outputs": [
    {
     "name": "stderr",
     "output_type": "stream",
     "text": [
      "usage: ipykernel_launcher.py [-h] [--work-dir WORK_DIR] [--load-from LOAD_FROM] [--resume-from RESUME_FROM]\n",
      "                             [--no-validate] [--gpus GPUS | --gpu-ids GPU_IDS [GPU_IDS ...]] [--seed SEED]\n",
      "                             [--deterministic] [--options OPTIONS [OPTIONS ...]]\n",
      "                             [--launcher {none,pytorch,slurm,mpi}] [--local_rank LOCAL_RANK]\n",
      "                             config\n",
      "ipykernel_launcher.py: error: unrecognized arguments: -f\n"
     ]
    },
    {
     "ename": "SystemExit",
     "evalue": "2",
     "output_type": "error",
     "traceback": [
      "An exception has occurred, use %tb to see the full traceback.\n",
      "\u001b[0;31mSystemExit\u001b[0m\u001b[0;31m:\u001b[0m 2\n"
     ]
    }
   ],
   "source": [
    "def parse_args():\n",
    "    parser = argparse.ArgumentParser(description='Train a segmentor')\n",
    "    parser.add_argument('config', help='train config file path')\n",
    "    parser.add_argument('--work-dir', help='the dir to save logs and models')\n",
    "    parser.add_argument(\n",
    "        '--load-from', help='the checkpoint file to load weights from')\n",
    "    parser.add_argument(\n",
    "        '--resume-from', help='the checkpoint file to resume from')\n",
    "    parser.add_argument(\n",
    "        '--no-validate',\n",
    "        action='store_true',\n",
    "        help='whether not to evaluate the checkpoint during training')\n",
    "    group_gpus = parser.add_mutually_exclusive_group()\n",
    "    group_gpus.add_argument(\n",
    "        '--gpus',\n",
    "        type=int,\n",
    "        help='number of gpus to use '\n",
    "        '(only applicable to non-distributed training)')\n",
    "    group_gpus.add_argument(\n",
    "        '--gpu-ids',\n",
    "        type=int,\n",
    "        nargs='+',\n",
    "        help='ids of gpus to use '\n",
    "        '(only applicable to non-distributed training)')\n",
    "    parser.add_argument('--seed', type=int, default=None, help='random seed')\n",
    "    parser.add_argument(\n",
    "        '--deterministic',\n",
    "        action='store_true',\n",
    "        help='whether to set deterministic options for CUDNN backend.')\n",
    "    parser.add_argument(\n",
    "        '--options', nargs='+', action=DictAction, help='custom options')\n",
    "    parser.add_argument(\n",
    "        '--launcher',\n",
    "        choices=['none', 'pytorch', 'slurm', 'mpi'],\n",
    "        default='none',\n",
    "        help='job launcher')\n",
    "    parser.add_argument('--local_rank', type=int, default=0)\n",
    "    args = parser.parse_args()\n",
    "    if 'LOCAL_RANK' not in os.environ:\n",
    "        os.environ['LOCAL_RANK'] = str(args.local_rank)\n",
    "\n",
    "    return args\n",
    "args = parse_args()"
   ]
  },
  {
   "cell_type": "code",
   "execution_count": 101,
   "id": "progressive-recording",
   "metadata": {},
   "outputs": [],
   "source": [
    "parser = argparse.ArgumentParser(description='Train a segmentor')\n",
    "parser.add_argument('--config', help='train config file path')\n",
    "group_gpus = parser.add_mutually_exclusive_group()\n",
    "group_gpus.add_argument(\n",
    "    '--gpus',\n",
    "    type=int,\n",
    "    help='number of gpus to use '\n",
    "    '(only applicable to non-distributed training)')\n",
    "group_gpus.add_argument(\n",
    "    '--gpu-ids',\n",
    "    type=int,\n",
    "    nargs='+',\n",
    "    help='ids of gpus to use '\n",
    "    '(only applicable to non-distributed training)')\n",
    "args = parser.parse_args(args=['--config', \"configs/unet/deeplabv3_unet_s5-d16_64x64_40k_particle_detection.py\",\n",
    "                              '--gpus', \"1\", \n",
    "                              \n",
    "                               ]\n",
    "                               )"
   ]
  },
  {
   "cell_type": "code",
   "execution_count": 193,
   "id": "spread-struggle",
   "metadata": {},
   "outputs": [
    {
     "ename": "NameError",
     "evalue": "name 'img_prefix' is not defined",
     "output_type": "error",
     "traceback": [
      "\u001b[0;31m---------------------------------------------------------------------------\u001b[0m",
      "\u001b[0;31mNameError\u001b[0m                                 Traceback (most recent call last)",
      "\u001b[0;32m<ipython-input-193-43c448190c9a>\u001b[0m in \u001b[0;36m<module>\u001b[0;34m\u001b[0m\n\u001b[0;32m----> 1\u001b[0;31m \u001b[0mimg_prefix\u001b[0m\u001b[0;34m\u001b[0m\u001b[0;34m\u001b[0m\u001b[0m\n\u001b[0m",
      "\u001b[0;31mNameError\u001b[0m: name 'img_prefix' is not defined"
     ]
    }
   ],
   "source": []
  },
  {
   "cell_type": "code",
   "execution_count": 55,
   "id": "whole-actor",
   "metadata": {},
   "outputs": [
    {
     "data": {
      "text/plain": [
       "Namespace(config='configs/unet/deeplabv3_unet_s5-d16_64x64_40k_particle_detection.py', gpu_ids=1, gpus=1)"
      ]
     },
     "execution_count": 55,
     "metadata": {},
     "output_type": "execute_result"
    }
   ],
   "source": [
    "args.gpu_ids = 1\n",
    "\n",
    "args\n"
   ]
  },
  {
   "cell_type": "code",
   "execution_count": 59,
   "id": "elegant-vertex",
   "metadata": {},
   "outputs": [],
   "source": [
    "cfg = Config.fromfile(args.config)"
   ]
  },
  {
   "cell_type": "code",
   "execution_count": 60,
   "id": "major-bench",
   "metadata": {},
   "outputs": [
    {
     "data": {
      "text/plain": [
       "Config (path: configs/unet/deeplabv3_unet_s5-d16_64x64_40k_particle_detection.py): {'norm_cfg': {'type': 'BN', 'requires_grad': True}, 'model': {'type': 'EncoderDecoder', 'pretrained': None, 'backbone': {'type': 'UNet', 'in_channels': 3, 'base_channels': 64, 'num_stages': 5, 'strides': (1, 1, 1, 1, 1), 'enc_num_convs': (2, 2, 2, 2, 2), 'dec_num_convs': (2, 2, 2, 2), 'downsamples': (True, True, True, True), 'enc_dilations': (1, 1, 1, 1, 1), 'dec_dilations': (1, 1, 1, 1), 'with_cp': False, 'conv_cfg': None, 'norm_cfg': {'type': 'BN', 'requires_grad': True}, 'act_cfg': {'type': 'ReLU'}, 'upsample_cfg': {'type': 'InterpConv'}, 'norm_eval': False}, 'decode_head': {'type': 'ASPPHead', 'in_channels': 64, 'in_index': 4, 'channels': 16, 'dilations': (1, 12, 24, 36), 'dropout_ratio': 0.1, 'num_classes': 2, 'norm_cfg': {'type': 'BN', 'requires_grad': True}, 'align_corners': False, 'loss_decode': {'type': 'CrossEntropyLoss', 'use_sigmoid': False, 'loss_weight': 1.0}}, 'auxiliary_head': {'type': 'FCNHead', 'in_channels': 128, 'in_index': 3, 'channels': 64, 'num_convs': 1, 'concat_input': False, 'dropout_ratio': 0.1, 'num_classes': 2, 'norm_cfg': {'type': 'BN', 'requires_grad': True}, 'align_corners': False, 'loss_decode': {'type': 'CrossEntropyLoss', 'use_sigmoid': False, 'loss_weight': 0.4}}, 'train_cfg': {}, 'test_cfg': {'mode': 'slide', 'crop_size': (64, 64), 'stride': (42, 42)}}, 'dataset_type': 'CustomDataset', 'data_root': '/home/shirakawa/projects/pytorch_particles_detection/dataset_sample/mmseg_dataset/', 'img_norm_cfg': {'mean': [123.675, 116.28, 103.53], 'std': [58.395, 57.12, 57.375], 'to_rgb': True}, 'crop_size': (512, 1024), 'train_pipeline': [{'type': 'LoadImageFromFile'}, {'type': 'LoadAnnotations'}, {'type': 'Resize', 'img_scale': (512, 32), 'ratio_range': (0.5, 2.0)}, {'type': 'RandomCrop', 'crop_size': (512, 1024), 'cat_max_ratio': 0.75}, {'type': 'RandomFlip', 'prob': 0.5}, {'type': 'PhotoMetricDistortion'}, {'type': 'Normalize', 'mean': [123.675, 116.28, 103.53], 'std': [58.395, 57.12, 57.375], 'to_rgb': True}, {'type': 'Pad', 'size': (512, 1024), 'pad_val': 0, 'seg_pad_val': 255}, {'type': 'DefaultFormatBundle'}, {'type': 'Collect', 'keys': ['img', 'gt_semantic_seg']}], 'test_pipeline': [{'type': 'LoadImageFromFile'}, {'type': 'MultiScaleFlipAug', 'img_scale': (512, 32), 'flip': False, 'transforms': [{'type': 'Resize', 'keep_ratio': True}, {'type': 'RandomFlip'}, {'type': 'Normalize', 'mean': [123.675, 116.28, 103.53], 'std': [58.395, 57.12, 57.375], 'to_rgb': True}, {'type': 'ImageToTensor', 'keys': ['img']}, {'type': 'Collect', 'keys': ['img']}]}], 'data': {'samples_per_gpu': 2, 'workers_per_gpu': 2, 'train': {'type': 'CustomDataset', 'data_root': '/home/shirakawa/projects/pytorch_particles_detection/dataset_sample/mmseg_dataset/', 'img_dir': 'img_dir/train', 'ann_dir': 'ann_dir/train', 'pipeline': [{'type': 'LoadImageFromFile'}, {'type': 'LoadAnnotations'}, {'type': 'Resize', 'img_scale': (512, 32), 'ratio_range': (0.5, 2.0)}, {'type': 'RandomCrop', 'crop_size': (512, 1024), 'cat_max_ratio': 0.75}, {'type': 'RandomFlip', 'prob': 0.5}, {'type': 'PhotoMetricDistortion'}, {'type': 'Normalize', 'mean': [123.675, 116.28, 103.53], 'std': [58.395, 57.12, 57.375], 'to_rgb': True}, {'type': 'Pad', 'size': (512, 1024), 'pad_val': 0, 'seg_pad_val': 255}, {'type': 'DefaultFormatBundle'}, {'type': 'Collect', 'keys': ['img', 'gt_semantic_seg']}]}, 'val': {'type': 'CustomDataset', 'data_root': '/home/shirakawa/projects/pytorch_particles_detection/dataset_sample/mmseg_dataset/', 'img_dir': 'img_dir/val', 'ann_dir': 'ann_dir/val', 'pipeline': [{'type': 'LoadImageFromFile'}, {'type': 'MultiScaleFlipAug', 'img_scale': (512, 32), 'flip': False, 'transforms': [{'type': 'Resize', 'keep_ratio': True}, {'type': 'RandomFlip'}, {'type': 'Normalize', 'mean': [123.675, 116.28, 103.53], 'std': [58.395, 57.12, 57.375], 'to_rgb': True}, {'type': 'ImageToTensor', 'keys': ['img']}, {'type': 'Collect', 'keys': ['img']}]}]}, 'test': {'type': 'CustomDataset', 'data_root': '/home/shirakawa/projects/pytorch_particles_detection/dataset_sample/mmseg_dataset/', 'img_dir': 'img_dir/test', 'ann_dir': 'ann_dir/test', 'pipeline': [{'type': 'LoadImageFromFile'}, {'type': 'MultiScaleFlipAug', 'img_scale': (512, 32), 'flip': False, 'transforms': [{'type': 'Resize', 'keep_ratio': True}, {'type': 'RandomFlip'}, {'type': 'Normalize', 'mean': [123.675, 116.28, 103.53], 'std': [58.395, 57.12, 57.375], 'to_rgb': True}, {'type': 'ImageToTensor', 'keys': ['img']}, {'type': 'Collect', 'keys': ['img']}]}]}}, 'log_config': {'interval': 50, 'hooks': [{'type': 'TextLoggerHook', 'by_epoch': False}]}, 'dist_params': {'backend': 'nccl'}, 'log_level': 'INFO', 'load_from': None, 'resume_from': None, 'workflow': [('train', 1)], 'cudnn_benchmark': True, 'optimizer': {'type': 'SGD', 'lr': 0.01, 'momentum': 0.9, 'weight_decay': 0.0005}, 'optimizer_config': {}, 'lr_config': {'policy': 'poly', 'power': 0.9, 'min_lr': 0.0001, 'by_epoch': False}, 'runner': {'type': 'IterBasedRunner', 'max_iters': 40000}, 'checkpoint_config': {'by_epoch': False, 'interval': 4000}, 'evaluation': {'interval': 4000, 'metric': 'mDice'}}"
      ]
     },
     "execution_count": 60,
     "metadata": {},
     "output_type": "execute_result"
    }
   ],
   "source": [
    "cfg"
   ]
  },
  {
   "cell_type": "code",
   "execution_count": 174,
   "id": "controversial-sailing",
   "metadata": {},
   "outputs": [
    {
     "data": {
      "text/plain": [
       "[{'type': 'LoadImageFromFile'},\n",
       " {'type': 'LoadAnnotations'},\n",
       " {'type': 'Resize', 'img_scale': (512, 32), 'ratio_range': (0.5, 2.0)},\n",
       " {'type': 'RandomCrop', 'crop_size': (512, 1024), 'cat_max_ratio': 0.75},\n",
       " {'type': 'RandomFlip', 'prob': 0.5},\n",
       " {'type': 'PhotoMetricDistortion'},\n",
       " {'type': 'Normalize',\n",
       "  'mean': [123.675, 116.28, 103.53],\n",
       "  'std': [58.395, 57.12, 57.375],\n",
       "  'to_rgb': True},\n",
       " {'type': 'Pad', 'size': (512, 1024), 'pad_val': 0, 'seg_pad_val': 255},\n",
       " {'type': 'DefaultFormatBundle'},\n",
       " {'type': 'Collect', 'keys': ['img', 'gt_semantic_seg']}]"
      ]
     },
     "execution_count": 174,
     "metadata": {},
     "output_type": "execute_result"
    }
   ],
   "source": [
    "cfg.data.train['pipeline']"
   ]
  },
  {
   "cell_type": "code",
   "execution_count": 57,
   "id": "statewide-smoke",
   "metadata": {},
   "outputs": [
    {
     "name": "stderr",
     "output_type": "stream",
     "text": [
      "2021-04-17 11:09:24,786 - mmseg - INFO - Loaded 5837 images\n",
      "INFO:mmseg:Loaded 5837 images\n"
     ]
    }
   ],
   "source": [
    "datasets = [build_dataset(cfg.data.train)]"
   ]
  },
  {
   "cell_type": "code",
   "execution_count": 66,
   "id": "capital-australia",
   "metadata": {},
   "outputs": [],
   "source": [
    "distributed = False\n",
    "seed = 0\n",
    "data_loaders = [\n",
    "        build_dataloader(\n",
    "            ds,\n",
    "            cfg.data.samples_per_gpu,\n",
    "            cfg.data.workers_per_gpu,\n",
    "            # cfg.gpus will be ignored if distributed\n",
    "            1,#len(cfg.gpu_ids),\n",
    "            dist=distributed,\n",
    "            seed=seed,\n",
    "            drop_last=True) for ds in datasets\n",
    "    ]"
   ]
  },
  {
   "cell_type": "code",
   "execution_count": 75,
   "id": "ruled-angola",
   "metadata": {},
   "outputs": [
    {
     "data": {
      "text/plain": [
       "<torch.utils.data.dataloader.DataLoader at 0x7fba16635370>"
      ]
     },
     "execution_count": 75,
     "metadata": {},
     "output_type": "execute_result"
    }
   ],
   "source": [
    "data_loaders.__getitem__(0)"
   ]
  },
  {
   "cell_type": "code",
   "execution_count": 108,
   "id": "arctic-assessment",
   "metadata": {},
   "outputs": [],
   "source": [
    "cfg.data.train.img_dir = 'img_dir/train'#,'img_dir/train']\n",
    "\n",
    "cfg.data.train.ann_dir = 'ann_dir/train'#,'ann_dir/train']"
   ]
  },
  {
   "cell_type": "code",
   "execution_count": 109,
   "id": "italic-surname",
   "metadata": {},
   "outputs": [
    {
     "name": "stderr",
     "output_type": "stream",
     "text": [
      "2021-04-17 13:42:53,388 - mmseg - INFO - Loaded 5837 images\n",
      "INFO:mmseg:Loaded 5837 images\n"
     ]
    }
   ],
   "source": [
    "datasets = [build_dataset(cfg.data.train)]"
   ]
  },
  {
   "cell_type": "code",
   "execution_count": 194,
   "id": "tight-warner",
   "metadata": {},
   "outputs": [],
   "source": [
    "dataset = datasets[0]"
   ]
  },
  {
   "cell_type": "code",
   "execution_count": 156,
   "id": "cordless-black",
   "metadata": {},
   "outputs": [
    {
     "data": {
      "text/plain": [
       "{'filename': 'dual_4-dust_00557.png',\n",
       " 'ann': {'seg_map': 'dual_4-dust_00557.png'}}"
      ]
     },
     "execution_count": 156,
     "metadata": {},
     "output_type": "execute_result"
    }
   ],
   "source": [
    "dataset.img_infos[9]"
   ]
  },
  {
   "cell_type": "code",
   "execution_count": 121,
   "id": "underlying-command",
   "metadata": {},
   "outputs": [],
   "source": [
    "img_dir = dataset.img_dir"
   ]
  },
  {
   "cell_type": "code",
   "execution_count": 123,
   "id": "lined-filter",
   "metadata": {},
   "outputs": [],
   "source": [
    "img_suffix = dataset.img_suffix"
   ]
  },
  {
   "cell_type": "code",
   "execution_count": 125,
   "id": "known-philosophy",
   "metadata": {},
   "outputs": [],
   "source": [
    "ann_dir = dataset.ann_dir"
   ]
  },
  {
   "cell_type": "code",
   "execution_count": 153,
   "id": "treated-seminar",
   "metadata": {},
   "outputs": [],
   "source": [
    "seg_map_suffix = dataset.seg_map_suffix"
   ]
  },
  {
   "cell_type": "code",
   "execution_count": 128,
   "id": "constitutional-advertising",
   "metadata": {},
   "outputs": [],
   "source": [
    "split = dataset.split"
   ]
  },
  {
   "cell_type": "code",
   "execution_count": 130,
   "id": "latin-priest",
   "metadata": {},
   "outputs": [],
   "source": [
    "import mmcv\n",
    "import numpy as np\n",
    "from mmcv.utils import print_log\n",
    "from terminaltables import AsciiTable\n",
    "from torch.utils.data import Dataset\n",
    "\n",
    "from mmseg.core import eval_metrics\n",
    "from mmseg.utils import get_root_logger"
   ]
  },
  {
   "cell_type": "code",
   "execution_count": 129,
   "id": "auburn-lease",
   "metadata": {},
   "outputs": [],
   "source": [
    "img_infos = []\n"
   ]
  },
  {
   "cell_type": "code",
   "execution_count": 146,
   "id": "parallel-arena",
   "metadata": {},
   "outputs": [],
   "source": [
    "qqq = mmcv.scandir(img_dir, img_suffix, recursive=True)"
   ]
  },
  {
   "cell_type": "code",
   "execution_count": 147,
   "id": "employed-medline",
   "metadata": {},
   "outputs": [],
   "source": [
    "q_list = list(qqq)"
   ]
  },
  {
   "cell_type": "code",
   "execution_count": 149,
   "id": "painted-calgary",
   "metadata": {},
   "outputs": [],
   "source": [
    "img_info=dict(filename=q_list[0])"
   ]
  },
  {
   "cell_type": "code",
   "execution_count": 150,
   "id": "silent-encoding",
   "metadata": {},
   "outputs": [
    {
     "data": {
      "text/plain": [
       "{'filename': 'dual_7-dust_00879.png'}"
      ]
     },
     "execution_count": 150,
     "metadata": {},
     "output_type": "execute_result"
    }
   ],
   "source": [
    "img_info"
   ]
  },
  {
   "cell_type": "code",
   "execution_count": 154,
   "id": "organizational-characteristic",
   "metadata": {},
   "outputs": [],
   "source": [
    "if ann_dir is not None:\n",
    "    seg_map = q_list[0].replace(img_suffix, seg_map_suffix)\n",
    "    img_info['ann'] = dict(seg_map=seg_map)\n",
    "img_infos.append(img_info)"
   ]
  },
  {
   "cell_type": "code",
   "execution_count": 155,
   "id": "transsexual-concentrate",
   "metadata": {},
   "outputs": [
    {
     "data": {
      "text/plain": [
       "{'filename': 'dual_7-dust_00879.png',\n",
       " 'ann': {'seg_map': 'dual_7-dust_00879.png'}}"
      ]
     },
     "execution_count": 155,
     "metadata": {},
     "output_type": "execute_result"
    }
   ],
   "source": [
    "img_info"
   ]
  },
  {
   "cell_type": "code",
   "execution_count": 165,
   "id": "changing-concern",
   "metadata": {},
   "outputs": [],
   "source": [
    "img_info = dataset.img_infos[9]\n",
    "ann_info = dataset.get_ann_info(9)"
   ]
  },
  {
   "cell_type": "code",
   "execution_count": 167,
   "id": "aging-discount",
   "metadata": {},
   "outputs": [],
   "source": [
    "results = dict(img_info= img_info, ann_info=ann_info)"
   ]
  },
  {
   "cell_type": "code",
   "execution_count": 170,
   "id": "typical-requirement",
   "metadata": {},
   "outputs": [],
   "source": [
    "dataset.pre_pipeline(results)"
   ]
  },
  {
   "cell_type": "code",
   "execution_count": 171,
   "id": "efficient-strike",
   "metadata": {},
   "outputs": [
    {
     "data": {
      "text/plain": [
       "{'img_info': {'filename': 'dual_4-dust_00557.png',\n",
       "  'ann': {'seg_map': 'dual_4-dust_00557.png'}},\n",
       " 'ann_info': {'seg_map': 'dual_4-dust_00557.png'},\n",
       " 'seg_fields': [],\n",
       " 'img_prefix': '/home/shirakawa/projects/pytorch_particles_detection/dataset_sample/mmseg_dataset/img_dir/train',\n",
       " 'seg_prefix': '/home/shirakawa/projects/pytorch_particles_detection/dataset_sample/mmseg_dataset/ann_dir/train'}"
      ]
     },
     "execution_count": 171,
     "metadata": {},
     "output_type": "execute_result"
    }
   ],
   "source": [
    "results"
   ]
  },
  {
   "cell_type": "code",
   "execution_count": 190,
   "id": "narrative-defeat",
   "metadata": {},
   "outputs": [],
   "source": [
    "filename=osp.join(results['img_prefix'],results['img_info']['filename'])"
   ]
  },
  {
   "cell_type": "code",
   "execution_count": 191,
   "id": "developmental-warren",
   "metadata": {},
   "outputs": [
    {
     "data": {
      "text/plain": [
       "'/home/shirakawa/projects/pytorch_particles_detection/dataset_sample/mmseg_dataset/img_dir/train/dual_4-dust_00557.png'"
      ]
     },
     "execution_count": 191,
     "metadata": {},
     "output_type": "execute_result"
    }
   ],
   "source": [
    "filename"
   ]
  },
  {
   "cell_type": "code",
   "execution_count": 186,
   "id": "individual-header",
   "metadata": {},
   "outputs": [],
   "source": [
    "file_client_args=dict(backend='disk')\n",
    "file_client = mmcv.FileClient(**file_client_args)\n",
    "file_client"
   ]
  },
  {
   "cell_type": "code",
   "execution_count": null,
   "id": "effective-ethics",
   "metadata": {},
   "outputs": [],
   "source": []
  },
  {
   "cell_type": "code",
   "execution_count": 192,
   "id": "suffering-dinner",
   "metadata": {},
   "outputs": [],
   "source": [
    "img_bytes = file_client.get(filename)"
   ]
  },
  {
   "cell_type": "code",
   "execution_count": 187,
   "id": "differential-casting",
   "metadata": {},
   "outputs": [
    {
     "data": {
      "text/plain": [
       "<mmcv.fileio.file_client.FileClient at 0x7fba16e713d0>"
      ]
     },
     "execution_count": 187,
     "metadata": {},
     "output_type": "execute_result"
    }
   ],
   "source": []
  },
  {
   "cell_type": "code",
   "execution_count": 197,
   "id": "personal-singapore",
   "metadata": {},
   "outputs": [
    {
     "data": {
      "text/plain": [
       "torch.Size([3, 512, 1024])"
      ]
     },
     "execution_count": 197,
     "metadata": {},
     "output_type": "execute_result"
    }
   ],
   "source": [
    "dataset.pipeline(results)['img'].data.shape"
   ]
  },
  {
   "cell_type": "code",
   "execution_count": 157,
   "id": "interpreted-grade",
   "metadata": {},
   "outputs": [
    {
     "data": {
      "text/plain": [
       "{'img_metas': DataContainer({'filename': '/home/shirakawa/projects/pytorch_particles_detection/dataset_sample/mmseg_dataset/img_dir/train/dual_4-dust_00557.png', 'ori_filename': 'dual_4-dust_00557.png', 'ori_shape': (32, 2172, 3), 'img_shape': (5, 355, 3), 'pad_shape': (512, 1024, 3), 'scale_factor': array([0.16344383, 0.15625   , 0.16344383, 0.15625   ], dtype=float32), 'flip': True, 'flip_direction': 'horizontal', 'img_norm_cfg': {'mean': array([123.675, 116.28 , 103.53 ], dtype=float32), 'std': array([58.395, 57.12 , 57.375], dtype=float32), 'to_rgb': True}}),\n",
       " 'img': DataContainer(tensor([[[-2.1008,  0.6221, -0.8507,  ...,  0.0000,  0.0000,  0.0000],\n",
       "          [-1.8268, -0.4911, -0.1999,  ...,  0.0000,  0.0000,  0.0000],\n",
       "          [-1.4500, -0.7479, -0.5082,  ...,  0.0000,  0.0000,  0.0000],\n",
       "          ...,\n",
       "          [ 0.0000,  0.0000,  0.0000,  ...,  0.0000,  0.0000,  0.0000],\n",
       "          [ 0.0000,  0.0000,  0.0000,  ...,  0.0000,  0.0000,  0.0000],\n",
       "          [ 0.0000,  0.0000,  0.0000,  ...,  0.0000,  0.0000,  0.0000]],\n",
       " \n",
       "         [[-1.8431,  0.6078, -1.8431,  ...,  0.0000,  0.0000,  0.0000],\n",
       "          [-1.2829, -0.3725, -0.1450,  ...,  0.0000,  0.0000,  0.0000],\n",
       "          [-1.0378, -1.8256, -1.7731,  ...,  0.0000,  0.0000,  0.0000],\n",
       "          ...,\n",
       "          [ 0.0000,  0.0000,  0.0000,  ...,  0.0000,  0.0000,  0.0000],\n",
       "          [ 0.0000,  0.0000,  0.0000,  ...,  0.0000,  0.0000,  0.0000],\n",
       "          [ 0.0000,  0.0000,  0.0000,  ...,  0.0000,  0.0000,  0.0000]],\n",
       " \n",
       "         [[-1.4210, -0.5844, -1.2467,  ...,  0.0000,  0.0000,  0.0000],\n",
       "          [ 0.3916, -0.6890, -0.7587,  ...,  0.0000,  0.0000,  0.0000],\n",
       "          [-1.4384, -1.1596, -1.3164,  ...,  0.0000,  0.0000,  0.0000],\n",
       "          ...,\n",
       "          [ 0.0000,  0.0000,  0.0000,  ...,  0.0000,  0.0000,  0.0000],\n",
       "          [ 0.0000,  0.0000,  0.0000,  ...,  0.0000,  0.0000,  0.0000],\n",
       "          [ 0.0000,  0.0000,  0.0000,  ...,  0.0000,  0.0000,  0.0000]]])),\n",
       " 'gt_semantic_seg': DataContainer(tensor([[[  0,   0,   0,  ..., 255, 255, 255],\n",
       "          [  0,   0,   0,  ..., 255, 255, 255],\n",
       "          [  0,   0,   0,  ..., 255, 255, 255],\n",
       "          ...,\n",
       "          [255, 255, 255,  ..., 255, 255, 255],\n",
       "          [255, 255, 255,  ..., 255, 255, 255],\n",
       "          [255, 255, 255,  ..., 255, 255, 255]]]))}"
      ]
     },
     "execution_count": 157,
     "metadata": {},
     "output_type": "execute_result"
    }
   ],
   "source": [
    "dataset.prepare_train_img(9)"
   ]
  },
  {
   "cell_type": "code",
   "execution_count": 90,
   "id": "electoral-sending",
   "metadata": {},
   "outputs": [
    {
     "data": {
      "text/plain": [
       "array([  0,   1, 255])"
      ]
     },
     "execution_count": 90,
     "metadata": {},
     "output_type": "execute_result"
    }
   ],
   "source": [
    "import numpy as np\n",
    "np.unique(datasets[0].__getitem__(0)['gt_semantic_seg'].data.detach().numpy())"
   ]
  },
  {
   "cell_type": "code",
   "execution_count": 95,
   "id": "efficient-shower",
   "metadata": {},
   "outputs": [
    {
     "data": {
      "text/plain": [
       "{'type': 'CustomDataset',\n",
       " 'data_root': '/home/shirakawa/projects/pytorch_particles_detection/dataset_sample/mmseg_dataset/',\n",
       " 'img_dir': 'img_dir/train',\n",
       " 'ann_dir': 'ann_dir/train',\n",
       " 'pipeline': [{'type': 'LoadImageFromFile'},\n",
       "  {'type': 'LoadAnnotations'},\n",
       "  {'type': 'Resize', 'img_scale': (512, 32), 'ratio_range': (0.5, 2.0)},\n",
       "  {'type': 'RandomCrop', 'crop_size': (512, 1024), 'cat_max_ratio': 0.75},\n",
       "  {'type': 'RandomFlip', 'prob': 0.5},\n",
       "  {'type': 'PhotoMetricDistortion'},\n",
       "  {'type': 'Normalize',\n",
       "   'mean': [123.675, 116.28, 103.53],\n",
       "   'std': [58.395, 57.12, 57.375],\n",
       "   'to_rgb': True},\n",
       "  {'type': 'Pad', 'size': (512, 1024), 'pad_val': 0, 'seg_pad_val': 255},\n",
       "  {'type': 'DefaultFormatBundle'},\n",
       "  {'type': 'Collect', 'keys': ['img', 'gt_semantic_seg']}]}"
      ]
     },
     "execution_count": 95,
     "metadata": {},
     "output_type": "execute_result"
    }
   ],
   "source": [
    "cfg.data.train"
   ]
  },
  {
   "cell_type": "code",
   "execution_count": null,
   "id": "charming-chancellor",
   "metadata": {},
   "outputs": [],
   "source": []
  }
 ],
 "metadata": {
  "kernelspec": {
   "display_name": "mmseg",
   "language": "python",
   "name": "mmseg"
  },
  "language_info": {
   "codemirror_mode": {
    "name": "ipython",
    "version": 3
   },
   "file_extension": ".py",
   "mimetype": "text/x-python",
   "name": "python",
   "nbconvert_exporter": "python",
   "pygments_lexer": "ipython3",
   "version": "3.8.8"
  }
 },
 "nbformat": 4,
 "nbformat_minor": 5
}
