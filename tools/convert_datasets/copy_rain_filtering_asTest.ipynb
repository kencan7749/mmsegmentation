{
 "metadata": {
  "language_info": {
   "codemirror_mode": {
    "name": "ipython",
    "version": 3
   },
   "file_extension": ".py",
   "mimetype": "text/x-python",
   "name": "python",
   "nbconvert_exporter": "python",
   "pygments_lexer": "ipython3",
   "version": "3.8.8"
  },
  "orig_nbformat": 2,
  "kernelspec": {
   "name": "python388jvsc74a57bd064e150cd74891ddf72a11057f74bcf7856a584ec4adb16ca7cce3933a847b574",
   "display_name": "Python 3.8  ('mmsegmentation': conda)"
  }
 },
 "nbformat": 4,
 "nbformat_minor": 2,
 "cells": [
  {
   "cell_type": "code",
   "execution_count": 7,
   "metadata": {},
   "outputs": [],
   "source": [
    "import mmcv\n",
    "import matplotlib.pyplot as plt\n",
    "import glob\n",
    "import numpy as np \n",
    "import os\n",
    "import shutil\n",
    "import sys\n",
    "from PIL import Image\n",
    "from tqdm import tqdm"
   ]
  },
  {
   "cell_type": "code",
   "execution_count": 8,
   "metadata": {},
   "outputs": [],
   "source": [
    "image_root_dir = '/var/datasets/rain_filtering/range_images/'\n",
    "\n",
    "label_root_dir = '/var/datasets/rain_filtering/ann_dir'\n",
    "\n",
    "#save_root_dir = '/var/datasets/rain_filtering/ann_dir/train'\n",
    "#os.makedirs(save_root_dir, exist_ok=True)"
   ]
  },
  {
   "cell_type": "code",
   "execution_count": 9,
   "metadata": {},
   "outputs": [],
   "source": [
    "image_list = np.sort(os.listdir(image_root_dir+'/train/first_depth'))"
   ]
  },
  {
   "cell_type": "code",
   "execution_count": 10,
   "metadata": {},
   "outputs": [],
   "source": [
    "image_type_list = os.listdir(image_root_dir+'/train')"
   ]
  },
  {
   "cell_type": "code",
   "execution_count": 17,
   "metadata": {},
   "outputs": [],
   "source": [
    "def move_images_from_train_dir(image_root_dir, label_root_dir, num_val, num_test, seed=123):\n",
    "    \"\"\"\n",
    "    move dataset into val or test directory from train dataset.\n",
    "    Arguments:\n",
    "        image_root_dir: str indicates path image root path\n",
    "        label_root_dir: str indicates path label root path\n",
    "        num_val: int indicates how many data move into validation directory \n",
    "        num_test: int indicates how many data move into valiation directory\n",
    "\n",
    "\n",
    "    \"\"\"\n",
    "    #set seed\n",
    "    np.random.seed(seed)\n",
    "    #get image list from train directory\n",
    "    image_type_list = os.listdir(image_root_dir+'/train')\n",
    "    #get image file from train directory\n",
    "    image_list = np.sort(os.listdir(os.path.join(image_root_dir,'train', image_type_list[0])))\n",
    "    #extract randomly selected data from image_list\n",
    "    split_data = np.random.choice(image_list, num_val+num_test, replace=False)\n",
    "    val_data_list = split_data[:num_val]\n",
    "    test_data_list = split_data[num_val:]\n",
    "    #move directory \n",
    "    move_images_from_train(val_data_list,  image_root_dir,image_type_list, label_root_dir, 'val')\n",
    "    move_images_from_train(test_data_list, image_root_dir, image_type_list, label_root_dir, 'test')\n",
    "    print('done')\n",
    "def move_images_from_train(data_list, image_root_dir,image_type_list, label_root_dir, dir_name):\n",
    "\n",
    "    for img_data in data_list:\n",
    "        #move input data\n",
    "        for image_type in image_type_list:\n",
    "            #specify train_image\n",
    "            img_path = os.path.join(image_root_dir, 'train', image_type, img_data)\n",
    "            #move_dir\n",
    "            mov_path = os.path.join(image_root_dir, dir_name, image_type)\n",
    "            os.makedirs(mov_path, exist_ok=True)\n",
    "            shutil.move(img_path, os.path.join(mov_path,img_data))\n",
    "        #move label data\n",
    "        label_path = os.path.join(label_root_dir, 'train', img_data)\n",
    "        mov_path = os.path.join(label_root_dir, dir_name)\n",
    "        os.makedirs(mov_path, exist_ok=True)\n",
    "        shutil.move(label_path, os.path.join(mov_path, img_data))\n",
    "    print(f'{dir_name} done')\n",
    "\n",
    "\n",
    "\n",
    "#move_images_from_train_dir(image_root_dir, label_root_dir, 298, 448 -298 )"
   ]
  },
  {
   "cell_type": "code",
   "execution_count": 18,
   "metadata": {},
   "outputs": [
    {
     "output_type": "stream",
     "name": "stdout",
     "text": [
      "val done\ntest done\ndone\n"
     ]
    }
   ],
   "source": [
    "move_images_from_train_dir(image_root_dir, label_root_dir, 298, 448 -298 )"
   ]
  },
  {
   "cell_type": "code",
   "execution_count": null,
   "metadata": {},
   "outputs": [],
   "source": [
    "def undone()"
   ]
  },
  {
   "cell_type": "code",
   "execution_count": 36,
   "metadata": {},
   "outputs": [],
   "source": [
    "np.random.seed(123)\n",
    "split_images = np.random.choice(image_list, 448, replace=False)"
   ]
  },
  {
   "cell_type": "code",
   "execution_count": 37,
   "metadata": {},
   "outputs": [],
   "source": [
    "val_image_list = split_images[:298]\n",
    "test_image_list = split_images[298:]"
   ]
  },
  {
   "cell_type": "code",
   "execution_count": 3,
   "metadata": {},
   "outputs": [],
   "source": [
    "def move_images_from_train_dir(image_root_dir, label_root_dir, num_val, num_test, seed=123):\n",
    "    \"\"\"\n",
    "    move dataset into val or test directory from train dataset.\n",
    "    Arguments:\n",
    "        image_root_dir: str indicates path image root path\n",
    "        label_root_dir: str indicates path label root path\n",
    "        num_val: int indicates how many data move into validation directory \n",
    "        num_test: int indicates how many data move into valiation directory\n",
    "\n",
    "\n",
    "    \"\"\"\n",
    "    #set seed\n",
    "    np.random.seed(seed)\n",
    "    #get image list from train directory\n",
    "    image_type_list = os.listdir(image_root_dir+'/train')\n",
    "    #get image file from train directory\n",
    "    image_list = np.sort(os.listdir(os.path.join(image_root_dir,'train', image_type_list[0])))\n",
    "    #extract randomly selected data from image_list\n",
    "    split_data = np.random.choise(image_list, num_val+num_test, replace=False)\n",
    "    val_data_list = split_data[:num_val]\n",
    "    test_data_list = split_data[num_val:]\n",
    "    #move directory \n",
    "    move_images_from_train(val_data_list,  image_root_dir,image_type_list, label_root_dir, 'val')\n",
    "    move_images_from_train(test_data_list, image_root_dir, image_type_list, label_root_dir, 'test')\n",
    "    print('done')\n",
    "def move_images_from_train(data_list, image_root_dir,image_type_list, label_root_dir, dir_name):\n",
    "    \"\"\"\n",
    "    move image from train data \n",
    "\n",
    "    data_list: list that contains image file name\n",
    "    image_root_dir: str indicates path image root path\n",
    "    image_type_list: list that contains image type('first_depth', ...)\n",
    "    label_root_dir: str indicates path label root path\n",
    "    dir_name: directory name to move image instead of train (e.g. 'val', 'test')\n",
    "    \"\"\"\n",
    "\n",
    "    for img_data in data_list:\n",
    "        #move input data\n",
    "        for image_type in image_type_list:\n",
    "            #specify train_image\n",
    "            img_path = os.path.join(image_root_dir, 'train', image_type, img_data)\n",
    "            #move_dir\n",
    "            mov_path = os.path.join(image_root_dir, dir_name, image_type)\n",
    "            os.makedirs(mov_path, exist_ok=True)\n",
    "            shutil.move(img_path, os.path.join(mov_path,img_data))\n",
    "        #move label data\n",
    "        label_path = os.path.join(label_root_dir, 'train', image_data)\n",
    "        mov_path = os.path.join(label_root_dir, dir_name)\n",
    "        shutil.move(img_path, os.path.join(mov_path, img_data))\n",
    "    print(f'{dir_name} done')\n",
    "\n",
    "\n",
    "\n",
    "\n",
    "\n",
    "\n",
    "\n"
   ]
  },
  {
   "cell_type": "code",
   "execution_count": 19,
   "metadata": {},
   "outputs": [],
   "source": [
    "import mmcv"
   ]
  },
  {
   "cell_type": "code",
   "execution_count": 20,
   "metadata": {},
   "outputs": [],
   "source": [
    " lbl_img = mmcv.imread(os.path.join(image_root_dir, 'val', 'first_return_type','95.png')).astype(np.float32)"
   ]
  },
  {
   "cell_type": "code",
   "execution_count": 22,
   "metadata": {},
   "outputs": [
    {
     "output_type": "execute_result",
     "data": {
      "text/plain": [
       "array([0., 3., 5., 7.], dtype=float32)"
      ]
     },
     "metadata": {},
     "execution_count": 22
    }
   ],
   "source": [
    "np.unique(lbl_img)"
   ]
  },
  {
   "cell_type": "code",
   "execution_count": null,
   "metadata": {},
   "outputs": [],
   "source": []
  }
 ]
}