{
 "metadata": {
  "language_info": {
   "codemirror_mode": {
    "name": "ipython",
    "version": 3
   },
   "file_extension": ".py",
   "mimetype": "text/x-python",
   "name": "python",
   "nbconvert_exporter": "python",
   "pygments_lexer": "ipython3",
   "version": "3.8.8"
  },
  "orig_nbformat": 2,
  "kernelspec": {
   "name": "python388jvsc74a57bd064e150cd74891ddf72a11057f74bcf7856a584ec4adb16ca7cce3933a847b574",
   "display_name": "Python 3.8  ('mmsegmentation': conda)"
  }
 },
 "nbformat": 4,
 "nbformat_minor": 2,
 "cells": [
  {
   "cell_type": "code",
   "execution_count": 131,
   "metadata": {},
   "outputs": [],
   "source": [
    "import mmcv\n",
    "import matplotlib.pyplot as plt\n",
    "\n",
    "import numpy as np \n",
    "import os\n",
    "import sys\n",
    "from PIL import Image\n",
    "from tqdm import tqdm"
   ]
  },
  {
   "cell_type": "code",
   "execution_count": 132,
   "metadata": {},
   "outputs": [],
   "source": [
    "label_root_dir = '/var/datasets/rain_filtering/particle_labels/train'\n",
    "\n",
    "save_root_dir = '/var/datasets/rain_filtering/ann_dir/train'\n",
    "os.makedirs(save_root_dir, exist_ok=True)"
   ]
  },
  {
   "cell_type": "code",
   "execution_count": 133,
   "metadata": {},
   "outputs": [],
   "source": [
    "label_list = ['first', 'last']"
   ]
  },
  {
   "cell_type": "code",
   "execution_count": 134,
   "metadata": {},
   "outputs": [],
   "source": [
    "image_list= np.sort(os.listdir(os.path.join(label_root_dir, label_list[0])))"
   ]
  },
  {
   "cell_type": "code",
   "execution_count": 135,
   "metadata": {},
   "outputs": [],
   "source": [
    "def create_mmseg_labels(label_root_dir, label_list,image_list,save_root_dir):\n",
    "    \"\"\"\n",
    "    Created and save labels for mmsegmentation.\n",
    "    Loaded label images (ranged 0-255) then regenerate labels accorging to their values (ranged 0 -num_classes -1).\n",
    "    For rain_filtering dataset,\n",
    "    0... nothing\n",
    "    1... particle (based on first images)\n",
    "    2... object (based on last images)\n",
    "    3... particle and object (intersect between first and last)\n",
    "    The label images are saved as png file as 'P' mode.\n",
    "    \n",
    "    Arguments:\n",
    "        label_root_dir: path to directory that contains the label image direcotry\n",
    "        label_list: list that contatins which label directory to use for labels\n",
    "        image_list; list that contains which image file to create labels\n",
    "        save_root_dir: path to directory that save directory\n",
    "    \"\"\"\n",
    "    for img_file in tqdm(image_list):\n",
    "        #load each images \n",
    "        label_image = create_label(label_root_dir, label_list, img_file)\n",
    "        #convert to PIL.Image\n",
    "        label_pil = Image.fromarray(label_image.astype(np.uint8))\n",
    "        #save label image\n",
    "        label_pil.save(os.path.join(save_root_dir, img_file), mode='P')\n",
    "\n",
    "    print('done')\n",
    "    \n",
    "\n",
    "def create_label(label_root_dir, label_list, img_file):\n",
    "    \"\"\"\n",
    "    Created and  labels for mmsegmentation.\n",
    "    Loaded label images (ranged 0-255) then regenerate labels accorging to their values (ranged 0 -num_classes -1).\n",
    "    Arguments:\n",
    "        label_root_dir: path to directory that contains the label image direcotry\n",
    "        label_list: list that contatins which label directory to use for labels\n",
    "        img_file: str for load image file name\n",
    "    Return: \n",
    "        img_array: np.array: image shape, whose values are ranged  (ranged 0 -num_classes -1).\n",
    "        For rain_filtering datasets,\n",
    "        0... nothing\n",
    "        1... particle (based on first images)\n",
    "        2... object (based on last images)\n",
    "        3... particle and object (intersect between first and last)\n",
    "    \"\"\"\n",
    "    lbl_img_list = []\n",
    "    for label in label_list:\n",
    "        #load image as float32\n",
    "        lbl_img = mmcv.imread(os.path.join(label_root_dir, label, img_file)).astype(np.float32)\n",
    "        #convert 255-> 1 (Note that pixel values are eigher 0 or 255)\n",
    "        lbl_img /= 255\n",
    "        # sum up the channel e.g. (height, width, 3) -> (height, width)\n",
    "        lbl_img = lbl_img.sum(2)\n",
    "        #convert3 -> 1 \n",
    "        lbl_img /=3\n",
    "        #append to list \n",
    "        lbl_img_list.append(lbl_img)\n",
    "    #regenerate lbl_img\n",
    "    img_array = np.zeros_like(lbl_img)\n",
    "    for i, img in enumerate(lbl_img_list):\n",
    "        img_array += img * (i+1)\n",
    "    return img_array\n",
    "\n",
    "\n",
    "\n",
    "\n"
   ]
  },
  {
   "cell_type": "code",
   "execution_count": 136,
   "metadata": {},
   "outputs": [
    {
     "output_type": "stream",
     "name": "stderr",
     "text": [
      "100%|██████████| 37448/37448 [03:24<00:00, 182.78it/s]done\n",
      "\n"
     ]
    }
   ],
   "source": [
    "create_mmseg_labels(label_root_dir, label_list, image_list, save_root_dir)"
   ]
  },
  {
   "cell_type": "code",
   "execution_count": 89,
   "metadata": {},
   "outputs": [],
   "source": [
    "first_image = mmcv.imread(os.path.join(label_root_dir, label_list[0], image_list[0])).astype(np.float32) / 255"
   ]
  },
  {
   "cell_type": "code",
   "execution_count": 90,
   "metadata": {},
   "outputs": [],
   "source": [
    "last_image = mmcv.imread(os.path.join(label_root_dir, label_list[1], image_list[0])).astype(np.float32) / 255"
   ]
  },
  {
   "cell_type": "code",
   "execution_count": 91,
   "metadata": {},
   "outputs": [],
   "source": [
    "first_image = first_image.sum(2) /3\n",
    "last_image = last_image.sum(2)/3"
   ]
  },
  {
   "cell_type": "code",
   "execution_count": 92,
   "metadata": {},
   "outputs": [],
   "source": [
    "label_image =np.zeros_like(first_image)"
   ]
  },
  {
   "cell_type": "code",
   "execution_count": 93,
   "metadata": {},
   "outputs": [],
   "source": [
    "label_image += last_image *2"
   ]
  },
  {
   "cell_type": "code",
   "execution_count": 94,
   "metadata": {},
   "outputs": [],
   "source": [
    "label_image += first_image"
   ]
  },
  {
   "cell_type": "code",
   "execution_count": 95,
   "metadata": {},
   "outputs": [
    {
     "output_type": "execute_result",
     "data": {
      "text/plain": [
       "array([0., 1., 2., 3.], dtype=float32)"
      ]
     },
     "metadata": {},
     "execution_count": 95
    }
   ],
   "source": [
    "np.unique(label_image)\n"
   ]
  },
  {
   "cell_type": "code",
   "execution_count": 98,
   "metadata": {},
   "outputs": [],
   "source": [
    "label_image = Image.fromarray(label_image.astype(np.uint8))"
   ]
  },
  {
   "cell_type": "code",
   "execution_count": 99,
   "metadata": {},
   "outputs": [],
   "source": [
    "label_image.save('test_label.png', mode='P')"
   ]
  },
  {
   "cell_type": "code",
   "execution_count": 101,
   "metadata": {},
   "outputs": [],
   "source": [
    "qq = Image.open('test_label.png')"
   ]
  },
  {
   "cell_type": "code",
   "execution_count": 114,
   "metadata": {},
   "outputs": [],
   "source": [
    "qw = np.asarray(qq)"
   ]
  },
  {
   "cell_type": "code",
   "execution_count": 122,
   "metadata": {},
   "outputs": [],
   "source": [
    "func_img = create_label(label_root_dir, label_list, image_list[0])"
   ]
  },
  {
   "cell_type": "code",
   "execution_count": 126,
   "metadata": {},
   "outputs": [
    {
     "output_type": "execute_result",
     "data": {
      "text/plain": [
       "True"
      ]
     },
     "metadata": {},
     "execution_count": 126
    }
   ],
   "source": [
    "np.sum(qw == func_img)  == qw.size"
   ]
  },
  {
   "cell_type": "code",
   "execution_count": 124,
   "metadata": {},
   "outputs": [
    {
     "output_type": "execute_result",
     "data": {
      "text/plain": [
       "array([[0, 0, 0, ..., 0, 0, 0],\n",
       "       [0, 0, 0, ..., 0, 0, 0],\n",
       "       [0, 0, 0, ..., 0, 0, 0],\n",
       "       ...,\n",
       "       [0, 0, 0, ..., 0, 0, 0],\n",
       "       [0, 0, 0, ..., 0, 0, 0],\n",
       "       [0, 0, 0, ..., 0, 0, 0]], dtype=uint8)"
      ]
     },
     "metadata": {},
     "execution_count": 124
    }
   ],
   "source": [
    "qw"
   ]
  },
  {
   "cell_type": "code",
   "execution_count": 125,
   "metadata": {},
   "outputs": [
    {
     "output_type": "execute_result",
     "data": {
      "text/plain": [
       "array([0., 1., 2., 3.], dtype=float32)"
      ]
     },
     "metadata": {},
     "execution_count": 125
    }
   ],
   "source": [
    "np.unique(func_img)"
   ]
  },
  {
   "cell_type": "code",
   "execution_count": null,
   "metadata": {},
   "outputs": [],
   "source": []
  }
 ]
}